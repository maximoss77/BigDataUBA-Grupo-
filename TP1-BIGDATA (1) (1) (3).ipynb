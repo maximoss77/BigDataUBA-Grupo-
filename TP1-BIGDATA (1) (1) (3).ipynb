{
 "cells": [
  {
   "cell_type": "markdown",
   "metadata": {
    "collapsed": true,
    "id": "Dh8MkXaG-c9Y",
    "jupyter": {
     "outputs_hidden": true
    }
   },
   "source": [
    "# Big Data y Machine Learning (UBA) -  2025\n",
    "\n",
    "## Trabajo Práctico 1: Jugando con APIs y WebScraping "
   ]
  },
  {
   "cell_type": "markdown",
   "metadata": {
    "id": "RhBlm6mZ-c9e"
   },
   "source": [
    "### Reglas de formato y presentación\n",
    "- El trabajo debe estar debidamente documentado comentado (utilizando #) para que tanto los docentes como sus compañeros puedan comprender el código fácilmente.\n",
    "\n",
    "- El mismo debe ser completado en este Jupyter Notebook y entregado como tal, es decir en un archivo .ipynb\n"
   ]
  },
  {
   "cell_type": "markdown",
   "metadata": {
    "id": "ZEjGaa4U-c9g"
   },
   "source": [
    "### Fecha de entrega:\n",
    "Viernes 4 de Abril a las 13:00 hs"
   ]
  },
  {
   "cell_type": "markdown",
   "metadata": {
    "id": "N9TU2y7E-c9h"
   },
   "source": [
    "### Modalidad de entrega\n",
    "- Al finalizar el trabajo práctico deben hacer un último <i>commit</i> en su repositorio de GitHub llamado “Entrega final del tp”. \n",
    "- Asegurense de haber creado una carpeta llamada TP1. Este Jupyter Notebook y el correspondiente al TP1 deben estar dentro de esa carpeta.\n",
    "- También deben enviar el link de su repositorio -para que pueda ser clonado y corregido- a mi correo 25RO35480961@campus.economicas.uba.ar. Usar de asunto de email <i>\"Big Data - TP 1 - Grupo #\"</i> y nombrar el archivo <i>\"TP1_Grupo #\"</i> donde # es el número de grupo que le fue asignado.\n",
    "- La última versión en el repositorio es la que será evaluada. Por lo que es importante que: \n",
    "    - No envien el correo hasta no haber terminado y estar seguros de que han hecho el <i>commit y push</i> a la versión final que quieren entregar. \n",
    "    - No hagan nuevos <i>push</i> despues de haber entregado su versión final. Esto generaría confusión acerca de que versión es la que quieren que se les corrija.\n",
    "- En resumen, la carpeta del repositorio debe incluir:\n",
    "    - El codigo\n",
    "    - Un documento Word (Parte A) donde esten las figuras y una breve descripción de las mismas.\n",
    "    - El excel con los links webscrappeados (Parte B)"
   ]
  },
  {
   "cell_type": "markdown",
   "metadata": {},
   "source": [
    "### Parte A"
   ]
  },
  {
   "cell_type": "markdown",
   "metadata": {
    "id": "ZXbrPraa-c9i"
   },
   "source": [
    "#### Ejercicio 1 - Jugando con APIs\n",
    "Usando la API del Banco Mundial [link](https://wbdata.readthedocs.io/en/stable/) , obtener dos series de indicadores para dos paises a elección en una consulta de búsqueda. Pueden buscar serie de indicadores de su interés."
   ]
  },
  {
   "cell_type": "code",
   "execution_count": 3,
   "metadata": {},
   "outputs": [
    {
     "name": "stdout",
     "output_type": "stream",
     "text": [
      "Requirement already satisfied: wbdata in c:\\users\\morri\\appdata\\local\\packages\\pythonsoftwarefoundation.python.3.9_qbz5n2kfra8p0\\localcache\\local-packages\\python39\\site-packages (1.0.0)\n",
      "Requirement already satisfied: pandas in c:\\users\\morri\\appdata\\local\\packages\\pythonsoftwarefoundation.python.3.9_qbz5n2kfra8p0\\localcache\\local-packages\\python39\\site-packages (2.2.3)\n",
      "Requirement already satisfied: cachetools<6.0.0,>=5.3.2 in c:\\users\\morri\\appdata\\local\\packages\\pythonsoftwarefoundation.python.3.9_qbz5n2kfra8p0\\localcache\\local-packages\\python39\\site-packages (from wbdata) (5.5.2)\n",
      "Requirement already satisfied: shelved-cache<0.4.0,>=0.3.1 in c:\\users\\morri\\appdata\\local\\packages\\pythonsoftwarefoundation.python.3.9_qbz5n2kfra8p0\\localcache\\local-packages\\python39\\site-packages (from wbdata) (0.3.1)\n",
      "Requirement already satisfied: dateparser<2.0.0,>=1.2.0 in c:\\users\\morri\\appdata\\local\\packages\\pythonsoftwarefoundation.python.3.9_qbz5n2kfra8p0\\localcache\\local-packages\\python39\\site-packages (from wbdata) (1.2.1)\n",
      "Requirement already satisfied: decorator<6.0.0,>=5.1.1 in c:\\users\\morri\\appdata\\local\\packages\\pythonsoftwarefoundation.python.3.9_qbz5n2kfra8p0\\localcache\\local-packages\\python39\\site-packages (from wbdata) (5.2.1)\n",
      "Requirement already satisfied: backoff<3.0.0,>=2.2.1 in c:\\users\\morri\\appdata\\local\\packages\\pythonsoftwarefoundation.python.3.9_qbz5n2kfra8p0\\localcache\\local-packages\\python39\\site-packages (from wbdata) (2.2.1)\n",
      "Requirement already satisfied: appdirs<2.0,>=1.4 in c:\\users\\morri\\appdata\\local\\packages\\pythonsoftwarefoundation.python.3.9_qbz5n2kfra8p0\\localcache\\local-packages\\python39\\site-packages (from wbdata) (1.4.4)\n",
      "Requirement already satisfied: tabulate<0.9.0,>=0.8.5 in c:\\users\\morri\\appdata\\local\\packages\\pythonsoftwarefoundation.python.3.9_qbz5n2kfra8p0\\localcache\\local-packages\\python39\\site-packages (from wbdata) (0.8.10)\n",
      "Requirement already satisfied: requests<3.0,>=2.0 in c:\\users\\morri\\appdata\\local\\packages\\pythonsoftwarefoundation.python.3.9_qbz5n2kfra8p0\\localcache\\local-packages\\python39\\site-packages (from wbdata) (2.32.3)\n",
      "Requirement already satisfied: python-dateutil>=2.8.2 in c:\\users\\morri\\appdata\\local\\packages\\pythonsoftwarefoundation.python.3.9_qbz5n2kfra8p0\\localcache\\local-packages\\python39\\site-packages (from pandas) (2.9.0.post0)\n",
      "Requirement already satisfied: numpy>=1.22.4 in c:\\users\\morri\\appdata\\local\\packages\\pythonsoftwarefoundation.python.3.9_qbz5n2kfra8p0\\localcache\\local-packages\\python39\\site-packages (from pandas) (2.0.2)\n",
      "Requirement already satisfied: tzdata>=2022.7 in c:\\users\\morri\\appdata\\local\\packages\\pythonsoftwarefoundation.python.3.9_qbz5n2kfra8p0\\localcache\\local-packages\\python39\\site-packages (from pandas) (2025.2)\n",
      "Requirement already satisfied: pytz>=2020.1 in c:\\users\\morri\\appdata\\local\\packages\\pythonsoftwarefoundation.python.3.9_qbz5n2kfra8p0\\localcache\\local-packages\\python39\\site-packages (from pandas) (2025.2)\n",
      "Requirement already satisfied: tzlocal>=0.2 in c:\\users\\morri\\appdata\\local\\packages\\pythonsoftwarefoundation.python.3.9_qbz5n2kfra8p0\\localcache\\local-packages\\python39\\site-packages (from dateparser<2.0.0,>=1.2.0->wbdata) (5.3.1)\n",
      "Requirement already satisfied: regex!=2019.02.19,!=2021.8.27,>=2015.06.24 in c:\\users\\morri\\appdata\\local\\packages\\pythonsoftwarefoundation.python.3.9_qbz5n2kfra8p0\\localcache\\local-packages\\python39\\site-packages (from dateparser<2.0.0,>=1.2.0->wbdata) (2024.11.6)\n",
      "Requirement already satisfied: six>=1.5 in c:\\users\\morri\\appdata\\local\\packages\\pythonsoftwarefoundation.python.3.9_qbz5n2kfra8p0\\localcache\\local-packages\\python39\\site-packages (from python-dateutil>=2.8.2->pandas) (1.17.0)\n",
      "Requirement already satisfied: idna<4,>=2.5 in c:\\users\\morri\\appdata\\local\\packages\\pythonsoftwarefoundation.python.3.9_qbz5n2kfra8p0\\localcache\\local-packages\\python39\\site-packages (from requests<3.0,>=2.0->wbdata) (3.10)\n",
      "Requirement already satisfied: charset-normalizer<4,>=2 in c:\\users\\morri\\appdata\\local\\packages\\pythonsoftwarefoundation.python.3.9_qbz5n2kfra8p0\\localcache\\local-packages\\python39\\site-packages (from requests<3.0,>=2.0->wbdata) (3.4.1)\n",
      "Requirement already satisfied: certifi>=2017.4.17 in c:\\users\\morri\\appdata\\local\\packages\\pythonsoftwarefoundation.python.3.9_qbz5n2kfra8p0\\localcache\\local-packages\\python39\\site-packages (from requests<3.0,>=2.0->wbdata) (2025.1.31)\n",
      "Requirement already satisfied: urllib3<3,>=1.21.1 in c:\\users\\morri\\appdata\\local\\packages\\pythonsoftwarefoundation.python.3.9_qbz5n2kfra8p0\\localcache\\local-packages\\python39\\site-packages (from requests<3.0,>=2.0->wbdata) (2.3.0)\n"
     ]
    },
    {
     "name": "stderr",
     "output_type": "stream",
     "text": [
      "WARNING: You are using pip version 22.0.4; however, version 25.0.1 is available.\n",
      "You should consider upgrading via the 'C:\\Users\\morri\\AppData\\Local\\Microsoft\\WindowsApps\\PythonSoftwareFoundation.Python.3.9_qbz5n2kfra8p0\\python.exe -m pip install --upgrade pip' command.\n"
     ]
    }
   ],
   "source": [
    "# Resolver acá\n",
    "!pip install wbdata pandas"
   ]
  },
  {
   "cell_type": "code",
   "execution_count": 6,
   "metadata": {},
   "outputs": [
    {
     "name": "stdout",
     "output_type": "stream",
     "text": [
      "Index(['PBI per cápita en USD', 'Tasa de alfabetización de adultos (%)'], dtype='object')\n"
     ]
    }
   ],
   "source": [
    "print(data.columns)"
   ]
  },
  {
   "cell_type": "code",
   "execution_count": 5,
   "metadata": {},
   "outputs": [
    {
     "data": {
      "text/html": [
       "<div>\n",
       "<style scoped>\n",
       "    .dataframe tbody tr th:only-of-type {\n",
       "        vertical-align: middle;\n",
       "    }\n",
       "\n",
       "    .dataframe tbody tr th {\n",
       "        vertical-align: top;\n",
       "    }\n",
       "\n",
       "    .dataframe thead th {\n",
       "        text-align: right;\n",
       "    }\n",
       "</style>\n",
       "<table border=\"1\" class=\"dataframe\">\n",
       "  <thead>\n",
       "    <tr style=\"text-align: right;\">\n",
       "      <th></th>\n",
       "      <th></th>\n",
       "      <th>PBI per cápita en USD</th>\n",
       "      <th>Tasa de alfabetización de adultos (%)</th>\n",
       "    </tr>\n",
       "    <tr>\n",
       "      <th>country</th>\n",
       "      <th>date</th>\n",
       "      <th></th>\n",
       "      <th></th>\n",
       "    </tr>\n",
       "  </thead>\n",
       "  <tbody>\n",
       "    <tr>\n",
       "      <th rowspan=\"3\" valign=\"top\">Argentina</th>\n",
       "      <th>2001</th>\n",
       "      <td>7141.475077</td>\n",
       "      <td>97.000000</td>\n",
       "    </tr>\n",
       "    <tr>\n",
       "      <th>1991</th>\n",
       "      <td>5709.247841</td>\n",
       "      <td>96.000000</td>\n",
       "    </tr>\n",
       "    <tr>\n",
       "      <th>1980</th>\n",
       "      <td>2747.502275</td>\n",
       "      <td>94.000000</td>\n",
       "    </tr>\n",
       "    <tr>\n",
       "      <th rowspan=\"17\" valign=\"top\">Brazil</th>\n",
       "      <th>2022</th>\n",
       "      <td>9281.333344</td>\n",
       "      <td>94.690002</td>\n",
       "    </tr>\n",
       "    <tr>\n",
       "      <th>2018</th>\n",
       "      <td>9300.661649</td>\n",
       "      <td>93.000000</td>\n",
       "    </tr>\n",
       "    <tr>\n",
       "      <th>2017</th>\n",
       "      <td>10080.509282</td>\n",
       "      <td>93.000000</td>\n",
       "    </tr>\n",
       "    <tr>\n",
       "      <th>2016</th>\n",
       "      <td>8836.286526</td>\n",
       "      <td>93.000000</td>\n",
       "    </tr>\n",
       "    <tr>\n",
       "      <th>2015</th>\n",
       "      <td>8936.196618</td>\n",
       "      <td>92.000000</td>\n",
       "    </tr>\n",
       "    <tr>\n",
       "      <th>2014</th>\n",
       "      <td>12274.993969</td>\n",
       "      <td>92.000000</td>\n",
       "    </tr>\n",
       "    <tr>\n",
       "      <th>2013</th>\n",
       "      <td>12458.891215</td>\n",
       "      <td>91.000000</td>\n",
       "    </tr>\n",
       "    <tr>\n",
       "      <th>2012</th>\n",
       "      <td>12521.721353</td>\n",
       "      <td>91.000000</td>\n",
       "    </tr>\n",
       "    <tr>\n",
       "      <th>2011</th>\n",
       "      <td>13396.624357</td>\n",
       "      <td>91.000000</td>\n",
       "    </tr>\n",
       "    <tr>\n",
       "      <th>2010</th>\n",
       "      <td>11403.282128</td>\n",
       "      <td>90.000000</td>\n",
       "    </tr>\n",
       "    <tr>\n",
       "      <th>2009</th>\n",
       "      <td>8678.659225</td>\n",
       "      <td>90.000000</td>\n",
       "    </tr>\n",
       "    <tr>\n",
       "      <th>2008</th>\n",
       "      <td>8908.331766</td>\n",
       "      <td>90.000000</td>\n",
       "    </tr>\n",
       "    <tr>\n",
       "      <th>2007</th>\n",
       "      <td>7409.691307</td>\n",
       "      <td>90.000000</td>\n",
       "    </tr>\n",
       "    <tr>\n",
       "      <th>2006</th>\n",
       "      <td>5934.144711</td>\n",
       "      <td>90.000000</td>\n",
       "    </tr>\n",
       "    <tr>\n",
       "      <th>2004</th>\n",
       "      <td>3663.823188</td>\n",
       "      <td>89.000000</td>\n",
       "    </tr>\n",
       "    <tr>\n",
       "      <th>2000</th>\n",
       "      <td>3766.548115</td>\n",
       "      <td>86.000000</td>\n",
       "    </tr>\n",
       "    <tr>\n",
       "      <th>1980</th>\n",
       "      <td>1958.571592</td>\n",
       "      <td>75.000000</td>\n",
       "    </tr>\n",
       "  </tbody>\n",
       "</table>\n",
       "</div>"
      ],
      "text/plain": [
       "                PBI per cápita en USD  Tasa de alfabetización de adultos (%)\n",
       "country   date                                                              \n",
       "Argentina 2001            7141.475077                              97.000000\n",
       "          1991            5709.247841                              96.000000\n",
       "          1980            2747.502275                              94.000000\n",
       "Brazil    2022            9281.333344                              94.690002\n",
       "          2018            9300.661649                              93.000000\n",
       "          2017           10080.509282                              93.000000\n",
       "          2016            8836.286526                              93.000000\n",
       "          2015            8936.196618                              92.000000\n",
       "          2014           12274.993969                              92.000000\n",
       "          2013           12458.891215                              91.000000\n",
       "          2012           12521.721353                              91.000000\n",
       "          2011           13396.624357                              91.000000\n",
       "          2010           11403.282128                              90.000000\n",
       "          2009            8678.659225                              90.000000\n",
       "          2008            8908.331766                              90.000000\n",
       "          2007            7409.691307                              90.000000\n",
       "          2006            5934.144711                              90.000000\n",
       "          2004            3663.823188                              89.000000\n",
       "          2000            3766.548115                              86.000000\n",
       "          1980            1958.571592                              75.000000"
      ]
     },
     "metadata": {},
     "output_type": "display_data"
    }
   ],
   "source": [
    "import wbdata\n",
    "import pandas as pd\n",
    "import datetime\n",
    "\n",
    "# Defino los indicadores:\n",
    "indicators = {\n",
    "    \"NY.GDP.PCAP.CD\": \"PBI per cápita en USD\",\n",
    "    \"SE.ADT.LITR.ZS\": \"Tasa de alfabetización de adultos (%)\"\n",
    "}\n",
    "\n",
    "# Defino los países:\n",
    "countries = [\"ARG\", \"BRA\"]\n",
    "\n",
    "# Obtengo los datos desde la API del Banco Mundial:\n",
    "data = wbdata.get_dataframe(indicators, country=countries)\n",
    "\n",
    "# Eliminamos las filas vacías:\n",
    "data_con_datos = data.dropna()\n",
    "\n",
    "# Mostramos los datos disponibles: \n",
    "display(data_con_datos)"
   ]
  },
  {
   "cell_type": "markdown",
   "metadata": {},
   "source": [
    "#### Ejercicio 2 - Repaso de Pandas\n",
    "Realicen una estadistica descriptiva de ambas series de indicadores comparando los dos países."
   ]
  },
  {
   "cell_type": "code",
   "execution_count": 147,
   "metadata": {},
   "outputs": [],
   "source": [
    "# Resolver acá\n",
    "import pandas as pd\n",
    "import os"
   ]
  },
  {
   "cell_type": "code",
   "execution_count": 152,
   "metadata": {},
   "outputs": [
    {
     "name": "stdout",
     "output_type": "stream",
     "text": [
      "Columnas: Index(['PBI per cápita en USD', 'Tasa de alfabetización de adultos (%)'], dtype='object')\n",
      "\n",
      "Tipo de dato (Types):\n",
      " PBI per cápita en USD                    float64\n",
      "Tasa de alfabetización de adultos (%)    float64\n",
      "dtype: object\n",
      "\n",
      "Tamaño de la base (Shape): (128, 2)\n",
      "\n",
      "Info:\n",
      " <bound method DataFrame.info of                 PBI per cápita en USD  Tasa de alfabetización de adultos (%)\n",
      "country   date                                                              \n",
      "Argentina 2023           14187.482725                                    NaN\n",
      "          2022           13935.681111                                    NaN\n",
      "          2021           10738.017922                                    NaN\n",
      "          2020            8535.599380                                    NaN\n",
      "          2019            9955.974787                                    NaN\n",
      "...                               ...                                    ...\n",
      "Brazil    1964             257.259727                                    NaN\n",
      "          1963             294.169619                                    NaN\n",
      "          1962             250.200573                                    NaN\n",
      "          1961             231.564063                                    NaN\n",
      "          1960             235.266010                                    NaN\n",
      "\n",
      "[128 rows x 2 columns]>\n"
     ]
    }
   ],
   "source": [
    "print('Columnas:', data.columns)\n",
    "print('\\nTipo de dato (Types):\\n', data.dtypes) # muestra el tipo de dato de cada columna\n",
    "print('\\nTamaño de la base (Shape):', data.shape) # muestra cuántas filas y columnas tiene la tabla\n",
    "print('\\nInfo:\\n', data.info)"
   ]
  },
  {
   "cell_type": "code",
   "execution_count": 153,
   "metadata": {},
   "outputs": [
    {
     "name": "stdout",
     "output_type": "stream",
     "text": [
      "<class 'wbdata.client.DataFrame'>\n",
      "MultiIndex: 128 entries, ('Argentina', '2023') to ('Brazil', '1960')\n",
      "Data columns (total 2 columns):\n",
      " #   Column                                 Non-Null Count  Dtype  \n",
      "---  ------                                 --------------  -----  \n",
      " 0   PBI per cápita en USD                  126 non-null    float64\n",
      " 1   Tasa de alfabetización de adultos (%)  20 non-null     float64\n",
      "dtypes: float64(2)\n",
      "memory usage: 5.0+ KB\n"
     ]
    }
   ],
   "source": [
    "data.info(verbose = True)# verbose imprime resumen completo"
   ]
  },
  {
   "cell_type": "code",
   "execution_count": null,
   "metadata": {},
   "outputs": [
    {
     "data": {
      "text/html": [
       "<div>\n",
       "<style scoped>\n",
       "    .dataframe tbody tr th:only-of-type {\n",
       "        vertical-align: middle;\n",
       "    }\n",
       "\n",
       "    .dataframe tbody tr th {\n",
       "        vertical-align: top;\n",
       "    }\n",
       "\n",
       "    .dataframe thead th {\n",
       "        text-align: right;\n",
       "    }\n",
       "</style>\n",
       "<table border=\"1\" class=\"dataframe\">\n",
       "  <thead>\n",
       "    <tr style=\"text-align: right;\">\n",
       "      <th></th>\n",
       "      <th></th>\n",
       "      <th>PBI per cápita en USD</th>\n",
       "      <th>Tasa de alfabetización de adultos (%)</th>\n",
       "    </tr>\n",
       "    <tr>\n",
       "      <th>country</th>\n",
       "      <th>date</th>\n",
       "      <th></th>\n",
       "      <th></th>\n",
       "    </tr>\n",
       "  </thead>\n",
       "  <tbody>\n",
       "    <tr>\n",
       "      <th rowspan=\"5\" valign=\"top\">Argentina</th>\n",
       "      <th>2022</th>\n",
       "      <td>13935.681111</td>\n",
       "      <td>NaN</td>\n",
       "    </tr>\n",
       "    <tr>\n",
       "      <th>2021</th>\n",
       "      <td>10738.017922</td>\n",
       "      <td>NaN</td>\n",
       "    </tr>\n",
       "    <tr>\n",
       "      <th>2020</th>\n",
       "      <td>8535.599380</td>\n",
       "      <td>NaN</td>\n",
       "    </tr>\n",
       "    <tr>\n",
       "      <th>2019</th>\n",
       "      <td>9955.974787</td>\n",
       "      <td>NaN</td>\n",
       "    </tr>\n",
       "    <tr>\n",
       "      <th>2018</th>\n",
       "      <td>11752.799892</td>\n",
       "      <td>NaN</td>\n",
       "    </tr>\n",
       "  </tbody>\n",
       "</table>\n",
       "</div>"
      ],
      "text/plain": [
       "                PBI per cápita en USD  Tasa de alfabetización de adultos (%)\n",
       "country   date                                                              \n",
       "Argentina 2022           13935.681111                                    NaN\n",
       "          2021           10738.017922                                    NaN\n",
       "          2020            8535.599380                                    NaN\n",
       "          2019            9955.974787                                    NaN\n",
       "          2018           11752.799892                                    NaN"
      ]
     },
     "execution_count": 154,
     "metadata": {},
     "output_type": "execute_result"
    }
   ],
   "source": [
    "#Seleccionamos la temporalidad que nos interesa analizar, desde el años 2018-2022 para ambos paises y gurdamos esta informacion\n",
    "data[1:6]"
   ]
  },
  {
   "cell_type": "code",
   "execution_count": 155,
   "metadata": {},
   "outputs": [
    {
     "data": {
      "text/html": [
       "<div>\n",
       "<style scoped>\n",
       "    .dataframe tbody tr th:only-of-type {\n",
       "        vertical-align: middle;\n",
       "    }\n",
       "\n",
       "    .dataframe tbody tr th {\n",
       "        vertical-align: top;\n",
       "    }\n",
       "\n",
       "    .dataframe thead th {\n",
       "        text-align: right;\n",
       "    }\n",
       "</style>\n",
       "<table border=\"1\" class=\"dataframe\">\n",
       "  <thead>\n",
       "    <tr style=\"text-align: right;\">\n",
       "      <th></th>\n",
       "      <th></th>\n",
       "      <th>PBI per cápita en USD</th>\n",
       "      <th>Tasa de alfabetización de adultos (%)</th>\n",
       "    </tr>\n",
       "    <tr>\n",
       "      <th>country</th>\n",
       "      <th>date</th>\n",
       "      <th></th>\n",
       "      <th></th>\n",
       "    </tr>\n",
       "  </thead>\n",
       "  <tbody>\n",
       "    <tr>\n",
       "      <th rowspan=\"5\" valign=\"top\">Brazil</th>\n",
       "      <th>2022</th>\n",
       "      <td>9281.333344</td>\n",
       "      <td>94.690002</td>\n",
       "    </tr>\n",
       "    <tr>\n",
       "      <th>2021</th>\n",
       "      <td>7972.536650</td>\n",
       "      <td>NaN</td>\n",
       "    </tr>\n",
       "    <tr>\n",
       "      <th>2020</th>\n",
       "      <td>7074.193783</td>\n",
       "      <td>NaN</td>\n",
       "    </tr>\n",
       "    <tr>\n",
       "      <th>2019</th>\n",
       "      <td>9029.833267</td>\n",
       "      <td>NaN</td>\n",
       "    </tr>\n",
       "    <tr>\n",
       "      <th>2018</th>\n",
       "      <td>9300.661649</td>\n",
       "      <td>93.000000</td>\n",
       "    </tr>\n",
       "  </tbody>\n",
       "</table>\n",
       "</div>"
      ],
      "text/plain": [
       "              PBI per cápita en USD  Tasa de alfabetización de adultos (%)\n",
       "country date                                                              \n",
       "Brazil  2022            9281.333344                              94.690002\n",
       "        2021            7972.536650                                    NaN\n",
       "        2020            7074.193783                                    NaN\n",
       "        2019            9029.833267                                    NaN\n",
       "        2018            9300.661649                              93.000000"
      ]
     },
     "execution_count": 155,
     "metadata": {},
     "output_type": "execute_result"
    }
   ],
   "source": [
    "data[65:70]"
   ]
  },
  {
   "cell_type": "code",
   "execution_count": 156,
   "metadata": {},
   "outputs": [
    {
     "name": "stdout",
     "output_type": "stream",
     "text": [
      "        País  Promedio PBI per cápita (USD)\n",
      "0  Argentina                        10983.0\n",
      "1     Brasil                         8531.2\n"
     ]
    }
   ],
   "source": [
    "# Datos de interes\n",
    "data = { \"Año\": [2018, 2019, 2020, 2021, 2022],\"Argentina\": [11752, 9955, 8535, 10738, 13935],\"Brasil\": [9300, 9029, 7074, 7972, 9281]}\n",
    "\n",
    "# Creamos el DataFrame\n",
    "df = pd.DataFrame(data)\n",
    "\n",
    "# Filtramos el período interes 2018-2022\n",
    "df_filtrado = df[(df[\"Año\"] >= 2018) & (df[\"Año\"] <= 2022)]\n",
    "\n",
    "# Calculamos el promedio para Argentina y Brasil\n",
    "promedio_argentina = df_filtrado[\"Argentina\"].mean()\n",
    "promedio_brasil = df_filtrado[\"Brasil\"].mean()\n",
    "\n",
    "# Creamos un nuevo DataFrame con la columna de promedios\n",
    "df_promedios = pd.DataFrame({\n",
    "    \"País\": [\"Argentina\", \"Brasil\"],\n",
    "    \"Promedio PBI per cápita (USD)\": [promedio_argentina, promedio_brasil] })\n",
    "\n",
    "# Mostramos el resultado\n",
    "print(df_promedios)\n"
   ]
  },
  {
   "cell_type": "markdown",
   "metadata": {},
   "source": [
    "#### Ejercicio 3 - Practicando con Matplotlib\n",
    "Armen dos gráficos distintos usando la librería Matplotlib (repasen Clase 4). Uno programandolo con el estilo *pyplot* y otro gráfico de estilo *orientada a objetos*"
   ]
  },
  {
   "cell_type": "code",
   "execution_count": 3,
   "metadata": {},
   "outputs": [
    {
     "data": {
      "image/png": "[encoded data removed]",
      "text/plain": [
       "<Figure size 600x400 with 1 Axes>"
      ]
     },
     "metadata": {},
     "output_type": "display_data"
    }
   ],
   "source": [
    "import matplotlib.pyplot as plt\n",
    "\n",
    "paises = ['Argentina', 'Brasil']\n",
    "pbi_per_capita = [10983.0, 8531.2]\n",
    "\n",
    "plt.figure(figsize=(6, 4))\n",
    "plt.bar(paises, pbi_per_capita, color=['blue', 'green'])\n",
    "plt.xlabel('País')\n",
    "plt.ylabel('PBI per cápita (USD)')\n",
    "plt.title('PBI per cápita por país (pyplot)')\n",
    "plt.show()\n"
   ]
  },
  {
   "cell_type": "code",
   "execution_count": 2,
   "metadata": {},
   "outputs": [
    {
     "data": {
      "image/png": "[encoded data removed]",
      "text/plain": [
       "<Figure size 600x400 with 1 Axes>"
      ]
     },
     "metadata": {},
     "output_type": "display_data"
    }
   ],
   "source": [
    "fig, ax = plt.subplots(figsize=(6, 4))\n",
    "ax.bar(paises, pbi_per_capita, color=['blue', 'green'])\n",
    "ax.set_xlabel('País')\n",
    "ax.set_ylabel('PBI per cápita (USD)')\n",
    "ax.set_title('PBI per cápita por país (OO)')\n",
    "plt.show()"
   ]
  },
  {
   "cell_type": "markdown",
   "metadata": {},
   "source": [
    "### Parte B"
   ]
  },
  {
   "cell_type": "markdown",
   "metadata": {},
   "source": [
    "#### Ejercicio 4\n",
    "De la página de noticias del [diario La Nación](https://www.lanacion.com.ar/) o cualquier diario que les interese, utilicen herramientas de web scraping para obtener los **links** de las noticias de la portada. Guarden los links obtenidos en un dataframe y expórtenlo a un archivo de excel.\n",
    "\n",
    "Nota 1: es posible que logren obtener los links a las noticias sin el dominio: \"https://www.lanacion.com.ar/\". De ser así, concatenen el dominio a la ruta del link obtenido, tal que se obtenga un link al que se pueda acceder. Es decir, que las cadenas de caracteres finales tendrán la forma: https://www.lanacion.com.ar/*texto_obtenido*)\n",
    "\n",
    "Nota 2: junto con su entrega, adjunten una captura de la página de noticias al momento de correr su código. Eso servirá al momento de la corrección para verificar que los links obtenidos hacen referencia a las noticias de ese día y hora."
   ]
  },
  {
   "cell_type": "code",
   "execution_count": null,
   "metadata": {},
   "outputs": [],
   "source": [
    "# Resolver acá\n"
   ]
  }
 ],
 "metadata": {
  "anaconda-cloud": {},
  "colab": {
   "name": "TP1 - Parte 1.ipynb",
   "provenance": []
  },
  "kernelspec": {
   "display_name": "anaconda-panel-2023.05-py310",
   "language": "python",
   "name": "conda-env-anaconda-panel-2023.05-py310-py"
  },
  "language_info": {
   "codemirror_mode": {
    "name": "ipython",
    "version": 3
   },
   "file_extension": ".py",
   "mimetype": "text/x-python",
   "name": "python",
   "nbconvert_exporter": "python",
   "pygments_lexer": "ipython3",
   "version": "3.11.5"
  }
 },
 "nbformat": 4,
 "nbformat_minor": 4
}
